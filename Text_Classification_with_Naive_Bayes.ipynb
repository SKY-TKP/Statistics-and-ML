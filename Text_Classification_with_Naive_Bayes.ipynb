{
  "nbformat": 4,
  "nbformat_minor": 0,
  "metadata": {
    "colab": {
      "provenance": []
    },
    "kernelspec": {
      "name": "python3",
      "display_name": "Python 3"
    },
    "language_info": {
      "name": "python"
    }
  },
  "cells": [
    {
      "cell_type": "markdown",
      "source": [
        "# Naive Bayes\n",
        "Resource: [Algorithm reading](https://www.javatpoint.com/machine-learning-naive-bayes-classifier)\n",
        "\n",
        "1. แนะนำทฤษฎีของ Bayes https://youtu.be/Di6DAJWBvIc‌\n",
        "2. ตัวอย่างยอดฮิตของ Bayes Theorem https://youtu.be/sy9kn1MM9Nc\n",
        "3. เปลี่ยนความเชื่อของคน https://youtu.be/TTk-WZepka0\n",
        "4. Probability of Cheating https://youtu.be/VB-nx-MQUeY\n",
        "5. Naive Bayes Classifier https://youtu.be/hxkoUxUk7yw\n",
        "6. Text Classification https://youtu.be/J-oa40Vpe2Q\n",
        "7. Text Classification Demo (Python) https://youtu.be/ctaajmBl-ms\n"
      ],
      "metadata": {
        "id": "uW37fM-2UUe8"
      }
    },
    {
      "cell_type": "markdown",
      "source": [
        "# Text File Preparetion"
      ],
      "metadata": {
        "id": "WHbApGGRDLmU"
      }
    },
    {
      "cell_type": "markdown",
      "source": [
        "## Generate sentencs function"
      ],
      "metadata": {
        "id": "4dKVq603IP93"
      }
    },
    {
      "cell_type": "markdown",
      "source": [
        "### Use AI to generate word something... (Lazy to think them ;-;)"
      ],
      "metadata": {
        "id": "8qA1IWYWJ3Sj"
      }
    },
    {
      "cell_type": "code",
      "source": [
        "# prompt: nouns = [\"หนังสือ\", \"อาหาร\", \"เกม\", \"ดนตรี\", \"ภาพยนตร์\", \"หมา\", \"ฉัน\", \"แมว\", \"แพรว\"]\n",
        "# verbs = [\"ชอบ\", \"เกลียด\", \"อ่าน\", \"กิน\", \"เล่น\", \"ฟัง\", \"ดู\", \"หลับ\"]\n",
        "# adjectives = [\"ดี\", \"แย่\", \"สนุก\", \"น่าเบื่อ\", \"อร่อย\", \"ไม่อร่อย\", \"ห่วย\", \"สุข\", \"สวย\", \"ทุเรศ\", \"อัปรีย์\"]\n",
        "# adverbs = [\"มาก\", \"น้อย\", \"จริง ๆ\", \"เลย\", \"ที่สุด\", \"โคตร\"]\n",
        "# prepositions = [\"ที่\", \"ใน\", \"กับ\", \"จาก\", \"บน\", \"ข้าง\", \"ซ้าย\", \"ขวา\"]\n",
        "# question_words = [\"ใคร\", \"อะไร\", \"ที่ไหน\", \"เมื่อไหร่\", \"ทำไม\", \"อย่างไร\", \"เท่าไหร่\", \"มีอะไร\", \"มีใคร\", \"อยู่ที่ไหน\", \"เกิดอะไรขึ้น\", \"จะทำอย่างไร\"]\n",
        "# ช่วยสร้างจำนวนคำในแต่ละลิสต์ให้มากขึ้น\n",
        "\n",
        "nouns = [\"หนังสือ\", \"อาหาร\", \"เกม\", \"ดนตรี\", \"ภาพยนตร์\", \"หมา\", \"แมว\", \"แพรว\", \"โทรศัพท์\", \"คอมพิวเตอร์\", \"รถยนต์\", \"บ้าน\", \"โรงเรียน\", \"งาน\", \"เงิน\", \"เวลา\", \"ประเทศ\", \"เมือง\", \"คน\", \"ครอบครัว\", \"เพื่อน\", \"ความรัก\", \"ความสุข\", \"ความเศร้า\", \"ปัญหา\", \"คำถาม\", \"ความฝัน\", \"ชีวิต\", \"โลก\", \"อนาคต\", \"อดีต\", \"ปัจจุบัน\", \"ธรรมชาติ\", \"สัตว์\", \"ต้นไม้\", \"ทะเล\", \"ภูเขา\", \"น้ำ\", \"ไฟ\", \"ลม\", \"แสง\", \"ความมืด\", \"ความร้อน\", \"ความเย็น\", \"สี\", \"กลิ่น\", \"รสชาติ\", \"เสียง\", \"สัมผัส\", \"ความรู้สึก\", \"ความคิด\", \"จิตใจ\", \"ร่างกาย\", \"สุขภาพ\", \"การศึกษา\", \"ศิลปะ\", \"วิทยาศาสตร์\", \"เทคโนโลยี\", \"สังคม\", \"วัฒนธรรม\", \"ประวัติศาสตร์\", \"การเมือง\", \"เศรษฐกิจ\", \"กฎหมาย\", \"ศาสนา\", \"ภาษา\", \"วรรณกรรม\", \"การเดินทาง\", \"การท่องเที่ยว\", \"อาหารทะเล\", \"ผลไม้\", \"ผัก\", \"เนื้อสัตว์\", \"เครื่องดื่ม\", \"ขนม\", \"เสื้อผ้า\", \"รองเท้า\", \"กระเป๋า\", \"เครื่องประดับ\", \"ของเล่น\", \"เครื่องใช้ไฟฟ้า\", \"เฟอร์นิเจอร์\"]\n",
        "verbs = [\"ปวด\", \"พัก\", \"ลา\", \"ตาย\", \"ยิ้ม\", \"ระทม\", \"ชอบ\", \"เกลียด\", \"อ่าน\", \"กิน\", \"เล่น\", \"ฟัง\", \"ดู\", \"หลับ\", \"เขียน\", \"พูด\", \"คิด\", \"ทำ\", \"ไป\", \"มา\", \"อยู่\", \"มี\", \"เป็น\", \"ได้\", \"ต้องการ\", \"ควร\", \"จะ\", \"สามารถ\", \"ต้อง\", \"รู้\", \"เข้าใจ\", \"เชื่อ\", \"หวัง\", \"กลัว\", \"รัก\", \"เกลียดชัง\", \"เคารพ\", \"นับถือ\", \"สงสาร\", \"โกรธ\", \"หัวเราะ\", \"ร้องไห้\", \"ยิ้ม\", \"เศร้า\", \"วิตกกังวล\", \"สบายใจ\", \"ตื่นเต้น\", \"ประหลาดใจ\", \"ตกใจ\", \"เบื่อ\", \"เหนื่อย\", \"สนุก\", \"น่าเบื่อ\", \"สำคัญ\", \"จำเป็น\", \"ว่าง\", \"ยุ่ง\", \"รีบ\", \"ช้า\", \"รอ\", \"รอคอย\", \"ฝัน\", \"นอน\", \"ตื่น\", \"เดิน\", \"วิ่ง\", \"ขับ\", \"บิน\", \"ว่ายน้ำ\", \"ดำน้ำ\", \"เต้น\", \"ร้องเพลง\", \"วาดรูป\", \"ถ่ายรูป\", \"เขียนโปรแกรม\", \"เรียน\", \"สอน\", \"ทำงาน\", \"พักผ่อน\", \"เดินทาง\", \"ท่องเที่ยว\", \"ซื้อ\", \"ขาย\", \"หา\", \"พบ\", \"เจอ\", \"หาย\", \"เสีย\", \"ชนะ\", \"แพ้\", \"ช่วย\", \"ช่วยเหลือ\", \"ต่อสู้\", \"ปกป้อง\", \"รักษา\", \"ดูแล\", \"สร้าง\", \"พัฒนา\", \"แก้ไข\", \"ปรับปรุง\", \"เปลี่ยนแปลง\", \"ทดสอบ\", \"ประเมิน\", \"วิเคราะห์\", \"สังเกต\", \"เปรียบเทียบ\", \"ตัดสินใจ\", \"เลือก\", \"เลือกใช้\", \"จัดการ\", \"ควบคุม\", \"บริหาร\", \"วางแผน\", \"ดำเนินการ\"]\n",
        "adjectives = [\"ผิด\", \"เหนื่อย\", \"ดี\", \"แย่\", \"สนุก\", \"น่าเบื่อ\", \"อร่อย\", \"ไม่อร่อย\", \"ห่วย\", \"สุข\", \"สวย\", \"ทุเรศ\", \"อัปรีย์\", \"ใหญ่\", \"เล็ก\", \"สูง\", \"ต่ำ\", \"ยาว\", \"สั้น\", \"หนา\", \"บาง\", \"แข็ง\", \"อ่อน\", \"ร้อน\", \"เย็น\", \"ใหม่\", \"เก่า\", \"สด\", \"เน่า\", \"จริง\", \"เท็จ\", \"ถูก\", \"แพง\", \"เร็ว\", \"ช้า\", \"ง่าย\", \"ยาก\", \"ปลอดภัย\", \"อันตราย\", \"สำคัญ\", \"ไม่สำคัญ\", \"สะอาด\", \"สกปรก\", \"สวยงาม\", \"น่ากลัว\", \"น่ารัก\", \"น่าเบื่อหน่าย\", \"น่าสนใจ\", \"น่าเศร้า\", \"น่าตื่นเต้น\", \"น่ากลัว\", \"น่าขยะแขยง\", \"น่ารักน่าเอ็นดู\", \"มีประโยชน์\", \"ไม่มีประโยชน์\", \"มีค่า\", \"ไม่มีค่า\", \"แข็งแรง\", \"อ่อนแอ\", \"ฉลาด\", \"โง่\", \"มีความสุข\", \"เศร้าใจ\", \"โกรธ\", \"กลัว\", \"เครียด\", \"ผ่อนคลาย\", \"สดใส\", \"มืดมน\", \"เงียบ\", \"ครึกครื้น\", \"สงบ\", \"วุ่นวาย\", \"สะดวก\", \"ลำบาก\", \"สมบูรณ์แบบ\", \"ไม่สมบูรณ์แบบ\", \"มีชีวิตชีวา\", \"น่าเบื่อหน่าย\", \"น่าทึ่ง\", \"น่าประทับใจ\", \"น่าผิดหวัง\", \"น่ากลัว\", \"น่ารัก\", \"มีเสน่ห์\", \"น่าเบื่อ\"]\n",
        "adverbs = [\"อย่าง\", \"ท้อแท้\", \"มาก\", \"น้อย\", \"จริง ๆ\", \"เลย\", \"ที่สุด\", \"โคตร\", \"อย่างรวดเร็ว\", \"อย่างช้าๆ\", \"อย่างระมัดระวัง\", \"อย่างแน่วแน่\", \"อย่างเต็มที่\", \"อย่างสวยงาม\", \"อย่างน่ารัก\", \"อย่างน่ากลัว\", \"อย่างดีเยี่ยม\", \"อย่างแย่มาก\", \"อย่างน่าเบื่อ\", \"อย่างสนุกสนาน\", \"อย่างมีความสุข\", \"อย่างเศร้าใจ\", \"อย่างโกรธ\", \"อย่างกลัว\", \"อย่างใจเย็น\", \"อย่างรีบเร่ง\", \"อย่างช้าๆ\", \"อย่างต่อเนื่อง\", \"อย่างแน่นอน\", \"อย่างแน่นอน\", \"อย่างน่าเชื่อถือ\", \"อย่างน่าสงสัย\", \"อย่างน่าเชื่อถือ\", \"อย่างน่าประหลาดใจ\", \"อย่างน่าอัศจรรย์\", \"อย่างน่าเศร้า\", \"อย่างน่ากลัว\", \"อย่างน่าภาคภูมิใจ\", \"อย่างน่าเบื่อ\", \"อย่างระมัดระวัง\", \"อย่างชัดเจน\", \"อย่างเงียบๆ\", \"อย่างดัง\", \"อย่างนุ่มนวล\", \"อย่างรุนแรง\", \"อย่างแรง\", \"อย่างรวดเร็ว\", \"อย่างช้าๆ\", \"อย่างเป็นธรรมชาติ\", \"อย่างไม่เป็นธรรมชาติ\", \"อย่างน่าสงสาร\", \"อย่างน่าขำ\", \"อย่างน่าเบื่อ\", \"อย่างน่ารัก\"]\n",
        "prepositions = [\"ที่\", \"ใน\", \"กับ\", \"จาก\", \"บน\", \"ข้าง\", \"ซ้าย\", \"ขวา\", \"ใต้\", \"เหนือ\", \"หน้า\", \"หลัง\", \"ใกล้\", \"ไกล\", \"ระหว่าง\", \"รอบๆ\", \"ผ่าน\", \"ตาม\", \"โดย\", \"ด้วย\", \"เพื่อ\", \"ก่อน\", \"หลังจาก\", \"แทน\", \"เกี่ยวกับ\", \"ต่อ\", \"ตาม\", \"ขึ้น\", \"ลง\", \"เข้า\", \"ออก\", \"ไป\", \"มา\", \"ทั่ว\", \"ตลอด\", \"นอกจาก\", \"รวมทั้ง\", \"เกี่ยวกับ\", \"เหมือน\", \"ต่าง\", \"แทนที่\", \"เนื่องจาก\", \"เพราะ\", \"ถึง\", \"จนกระทั่ง\", \"ในขณะที่\", \"ถ้า\", \"เมื่อ\", \"แม้ว่า\", \"ถึงแม้ว่า\", \"อย่างไรก็ตาม\", \"อย่างไรก็ดี\", \"ดังนั้น\", \"เพราะฉะนั้น\", \"แต่\", \"และ\", \"หรือ\", \"ไม่\", \"ก็\", \"ยัง\", \"ถ้าหาก\", \"แม้ว่า\", \"ถึงแม้\", \"อย่างไรก็ดี\", \"แต่ว่า\", \"และก็\", \"หรือก็\", \"ไม่ใช่\", \"ก็คือ\", \"อย่างไร\"]\n",
        "question_words = [\"ใคร\", \"อะไร\", \"ที่ไหน\", \"เมื่อไหร่\", \"ทำไม\", \"อย่างไร\", \"เท่าไหร่\", \"มีอะไร\", \"มีใคร\", \"อยู่ที่ไหน\", \"เกิดอะไรขึ้น\", \"จะทำอย่างไร\", \"เขาเป็นใคร\", \"เธอคือใคร\", \"มันคืออะไร\", \"คุณทำอะไรอยู่\", \"พวกเขาไปที่ไหน\", \"เมื่อไหร่คุณจะมา\", \"ทำไมคุณถึงทำแบบนั้น\", \"คุณทำอย่างไร\", \"ราคาเท่าไหร่\", \"คุณมีอะไรบ้าง\", \"คุณมีใครบ้าง\", \"พวกเขาอยู่ที่ไหน\", \"เกิดอะไรขึ้นกับเขา\", \"เราจะทำอย่างไรดี\", \"ใครเป็นเจ้าของ\", \"สิ่งนี้คืออะไร\", \"ที่ไหนคือที่\", \"เมื่อไหร่คือเวลา\", \"ทำไมถึงเป็นแบบนี้\", \"อย่างไรคุณถึงรู้\", \"เท่าไหร่คือเงิน\", \"คุณมีอะไรให้ฉัน\", \"คุณมีใครให้ฉัน\", \"เขาอยู่ที่ไหน\", \"เกิดอะไรขึ้นกับเธอ\", \"เราจะทำอย่างไร\"]"
      ],
      "metadata": {
        "id": "ChGyWsIQJMJF"
      },
      "execution_count": 152,
      "outputs": []
    },
    {
      "cell_type": "markdown",
      "source": [
        "### Construct function"
      ],
      "metadata": {
        "id": "KeinvrE-J_CY"
      }
    },
    {
      "cell_type": "code",
      "source": [
        "import random\n",
        "import nltk\n",
        "from nltk.corpus import wordnet\n",
        "# # Text File Preparetion\n",
        "\n",
        "# ฟังก์ชันสร้างประโยค\n",
        "def generate_sentence(length):\n",
        "    sentence = \"\"\n",
        "    # เลือกโครงสร้างประโยคแบบสุ่ม\n",
        "    structure = random.choice([\"SVO\", \"SVA\", \"SVC\", \"SQ\", \"SN\", \"SVOO\"])\n",
        "\n",
        "    if structure == \"SVO\":\n",
        "        # subject verb object\n",
        "        subject = random.choice(nouns)\n",
        "        verb = random.choice(verbs)\n",
        "        obj = random.choice(nouns)\n",
        "        sentence = f\"{subject} {verb} {obj}\"\n",
        "\n",
        "    elif structure == \"SVA\":\n",
        "       # subject verb abjective\n",
        "        subject = random.choice(nouns)\n",
        "        verb = random.choice(verbs)\n",
        "        adjective = random.choice(adjectives)\n",
        "        sentence = f\"{subject} {verb} {adjective}\"\n",
        "\n",
        "    elif structure == \"SVC\":\n",
        "        # subject verb complement\n",
        "        subject = random.choice(nouns)\n",
        "        verb = random.choice(verbs)\n",
        "        complement = random.choice(adjectives)\n",
        "        sentence = f\"{subject} {verb} {complement}\"\n",
        "\n",
        "    elif structure == \"SQ\":\n",
        "       # subject question_words\n",
        "        question_word = random.choice(question_words)\n",
        "        subject = random.choice(nouns)\n",
        "        verb = random.choice(verbs)\n",
        "        sentence = f\"{question_word} {subject} {verb}\"\n",
        "\n",
        "    elif structure == \"SN\":\n",
        "        # subject noun ex. ฉัน คือ หมา\n",
        "        noun1 = random.choice(nouns)\n",
        "        noun2 = random.choice(nouns)\n",
        "        verb_to_be = \"คือ\"  # หรือจะเป็น \"เป็น\" ก็ได้\n",
        "        sentence = f\"{noun1} {verb_to_be} {noun2}\"\n",
        "\n",
        "    elif structure == \"SVOO\":\n",
        "       # subject verb indirect object Direct object\n",
        "        subject = random.choice(nouns)\n",
        "        verb = random.choice([\"ให้\", \"บอก\", \"ไปยัง\"])\n",
        "        indirect_object = random.choice(nouns)\n",
        "        direct_object = random.choice(nouns)\n",
        "        sentence = f\"{subject} {verb} {indirect_object} {direct_object}\"\n",
        "\n",
        "    # randomly word with conjunction\n",
        "    if random.random() < 0.5:\n",
        "        conjunction = random.choice([\"และ\", \"แต่\", \"เพราะว่า\", \"ซึ่ง\", \"หรือ\", \"ราวกับว่า\", \"ในทำนองเดียวกัน\", \"ยกเว้นว่า\"])\n",
        "        subclause = generate_sentence(length - 1)\n",
        "        sentence += f\" {conjunction} {subclause}\"\n",
        "\n",
        "    # add adverbs\n",
        "    if random.random() < 0.3:  # randomly word may be to insert?\n",
        "        adverb = random.choice(adverbs)\n",
        "        # randomly position in sentence\n",
        "        if random.random() < 0.5:\n",
        "            if \" \" in sentence:\n",
        "                parts = sentence.split(\" \", 1)\n",
        "                sentence = parts[0] + \" \" + adverb + \" \" + parts[1]\n",
        "            else:\n",
        "                sentence += \" \" + adverb\n",
        "        else:\n",
        "            if \" \" in sentence:\n",
        "                parts = sentence.rsplit(\" \", 1)\n",
        "                sentence = parts[0] + \" \" + adverb + \" \" + parts[1]\n",
        "            else:\n",
        "                sentence = adverb + \" \" + sentence\n",
        "\n",
        "    return sentence.strip()"
      ],
      "metadata": {
        "id": "d-QqxAdoHced"
      },
      "execution_count": 153,
      "outputs": []
    },
    {
      "cell_type": "markdown",
      "source": [
        "## Create dataframe"
      ],
      "metadata": {
        "id": "lV5Iz689IU58"
      }
    },
    {
      "cell_type": "code",
      "source": [
        "# Define list of positive and negative words\n",
        "positive_words = [\"ดีเยี่ยม\", \"ยอดเยี่ยม\", \"วิเศษ\", \"สุดยอด\", \"น่ารัก\", \"สนุกสนาน\",\n",
        "                  \"มีความสุข\", \"ประสบความสำเร็จ\", \"น่าพอใจ\", \"สมบูรณ์แบบ\", \"สวยงาม\",\n",
        "                  \"น่าชื่นชม\", \"มีคุณค่า\", \"มีประโยชน์\", \"สดใส\", \"อบอุ่น\", \"น่ารักน่าเอ็นดู\",\n",
        "                  \"น่าชื่นใจ\", \"มีชีวิตชีวา\", \"มีพลัง\", \"มีเสน่ห์\", \"น่าสนใจ\", \"น่าตื่นเต้น\",\n",
        "                  \"น่าทึ่ง\", \"มีแรงบันดาลใจ\", \"มีศักยภาพ\", \"เจริญรุ่งเรือง\", \"น่าภาคภูมิใจ\",\n",
        "                  \"มีโชค\", \"มีสุขภาพดี\", \"น่าเอ็นดู\", \"น่ากอด\", \"รื่นรมย์\", \"ความสุข\", \"ยินดี\",\n",
        "                  \"ชื่นชอบ\", \"นิยม\", \"ชอบ\", \"วิเศษ\", \"หอม\", \"ปิติ\", \"สวยงาม\", \"สะอาด\", \"อย่างดีเยี่ยม\",\n",
        "                  \"ฉลาด\", \"มีชีวิตชีวา\", \"สมบูรณ์\", \"เต็มที่\", \"แน่วแน่\", \"แข็งแรง\", \"เต็ม\", \"ได้\", \"เชื่อ\",\"สุข\", \"ยิ้ม\", \"หัวเราะ\",\n",
        "                  \"สนุก\", \"พัก\"]\n",
        "\n",
        "negative_words = [\"แย่\", \"เลวร้าย\", \"น่ากลัว\", \"น่าเศร้า\", \"น่าเบื่อ\", \"ผิดหวัง\", \"โกรธ\",\n",
        "                  \"เสียใจ\", \"ท้อแท้\" \"น่าเบื่อหน่าย\", \"น่าขยะแขยง\",\n",
        "                  \"น่ารังเกียจ\", \"น่าเกลียด\",\"น่ารำคาญ\", \"น่าผิดหวัง\", \"ไม่\", \"ไม่ดี\", \"เสียใจ\", \"ท้อแท้\",\n",
        "                  \"ซึมเศร้า\", \"หดหู่\", \"อาภัพ\", \"รังเกียจ\", \"น้อย\", \"เลี่ยง\", \"เน่า\", \"เหนื่อย\", \"เตี้ย\", \"อัปรีย์\",\n",
        "                  \"เศร้า\", \"ระทม\", \"สกปรก\", \"เก่า\", \"โง่\", \"ทรมาน\", \"ตาย\", \"ผิด\", \"เครียด\", \"กังวล\", \"น้อย\",\n",
        "                  \"อ่อนแอ\", \"ห่วย\",\"อย่างรุนแรง\", \"ยกเว้นว่า\", \"เว้นแต่\", \"ข้อยกเว้น\", \"ลาออก\", \"ตาย\", \"ลา\", \"ไม่ชอบ\", \"ยุ่ง\", \"ปวด\"]\n",
        "\n",
        "# Create dataset\n",
        "\n",
        "data = []\n",
        "for i in range(100000):\n",
        "    length = random.randint(3, 15)  # fix a number of words in sentence\n",
        "    sentence = generate_sentence(length)\n",
        "\n",
        "    # check sentitivity sentences\n",
        "    has_positive = any(word in sentence for word in positive_words)\n",
        "    has_negative = any(word in sentence for word in negative_words)\n",
        "\n",
        "    if has_positive and not has_negative:\n",
        "        label = \"Yes\"  # positive text\n",
        "    elif has_negative and not has_positive:\n",
        "        label = \"No\"  # negative txt\n",
        "    else: # if no in, randomly.\n",
        "        label = \"Yes\" if random.random() < 0.5 else \"No\"\n",
        "\n",
        "    data.append([sentence, label])\n",
        "\n",
        "    i = i + 1\n",
        "\n",
        "# construct dataframe\n",
        "df = pd.DataFrame(data, columns=['Sentence', 'Label'])"
      ],
      "metadata": {
        "id": "9HNwZ2TjHftj"
      },
      "execution_count": 154,
      "outputs": []
    },
    {
      "cell_type": "code",
      "source": [
        "df"
      ],
      "metadata": {
        "colab": {
          "base_uri": "https://localhost:8080/",
          "height": 423
        },
        "id": "zXdoqYXgHMpD",
        "outputId": "891f5105-d1b1-42ba-f098-241b83cf8dc7"
      },
      "execution_count": 155,
      "outputs": [
        {
          "output_type": "execute_result",
          "data": {
            "text/plain": [
              "                                                Sentence Label\n",
              "0                                 บ้าน คือ เครื่องประดับ   Yes\n",
              "1                                  กฎหมาย เข้าใจ เศร้าใจ    No\n",
              "2                                      เศรษฐกิจ คือ อดีต   Yes\n",
              "3      ความคิด อย่างน่าขำ พัฒนา ชีวิต หรือ อดีต อย่าง...    No\n",
              "4                                 คุณทำอย่างไร ชีวิต ช้า    No\n",
              "...                                                  ...   ...\n",
              "99995  เงิน ได้ ลำบาก เพราะว่า สัมผัส ไปยัง เงิน เครื...   Yes\n",
              "99996                                  ครอบครัว ลา เงียบ    No\n",
              "99997                                   ประเทศ เสีย เก่า    No\n",
              "99998                       คุณมีใครบ้าง ความเศร้า ดำน้ำ    No\n",
              "99999                                     อาหาร คือ แพรว    No\n",
              "\n",
              "[100000 rows x 2 columns]"
            ],
            "text/html": [
              "\n",
              "  <div id=\"df-c03042b0-9344-4922-bdd0-63cea493ab99\" class=\"colab-df-container\">\n",
              "    <div>\n",
              "<style scoped>\n",
              "    .dataframe tbody tr th:only-of-type {\n",
              "        vertical-align: middle;\n",
              "    }\n",
              "\n",
              "    .dataframe tbody tr th {\n",
              "        vertical-align: top;\n",
              "    }\n",
              "\n",
              "    .dataframe thead th {\n",
              "        text-align: right;\n",
              "    }\n",
              "</style>\n",
              "<table border=\"1\" class=\"dataframe\">\n",
              "  <thead>\n",
              "    <tr style=\"text-align: right;\">\n",
              "      <th></th>\n",
              "      <th>Sentence</th>\n",
              "      <th>Label</th>\n",
              "    </tr>\n",
              "  </thead>\n",
              "  <tbody>\n",
              "    <tr>\n",
              "      <th>0</th>\n",
              "      <td>บ้าน คือ เครื่องประดับ</td>\n",
              "      <td>Yes</td>\n",
              "    </tr>\n",
              "    <tr>\n",
              "      <th>1</th>\n",
              "      <td>กฎหมาย เข้าใจ เศร้าใจ</td>\n",
              "      <td>No</td>\n",
              "    </tr>\n",
              "    <tr>\n",
              "      <th>2</th>\n",
              "      <td>เศรษฐกิจ คือ อดีต</td>\n",
              "      <td>Yes</td>\n",
              "    </tr>\n",
              "    <tr>\n",
              "      <th>3</th>\n",
              "      <td>ความคิด อย่างน่าขำ พัฒนา ชีวิต หรือ อดีต อย่าง...</td>\n",
              "      <td>No</td>\n",
              "    </tr>\n",
              "    <tr>\n",
              "      <th>4</th>\n",
              "      <td>คุณทำอย่างไร ชีวิต ช้า</td>\n",
              "      <td>No</td>\n",
              "    </tr>\n",
              "    <tr>\n",
              "      <th>...</th>\n",
              "      <td>...</td>\n",
              "      <td>...</td>\n",
              "    </tr>\n",
              "    <tr>\n",
              "      <th>99995</th>\n",
              "      <td>เงิน ได้ ลำบาก เพราะว่า สัมผัส ไปยัง เงิน เครื...</td>\n",
              "      <td>Yes</td>\n",
              "    </tr>\n",
              "    <tr>\n",
              "      <th>99996</th>\n",
              "      <td>ครอบครัว ลา เงียบ</td>\n",
              "      <td>No</td>\n",
              "    </tr>\n",
              "    <tr>\n",
              "      <th>99997</th>\n",
              "      <td>ประเทศ เสีย เก่า</td>\n",
              "      <td>No</td>\n",
              "    </tr>\n",
              "    <tr>\n",
              "      <th>99998</th>\n",
              "      <td>คุณมีใครบ้าง ความเศร้า ดำน้ำ</td>\n",
              "      <td>No</td>\n",
              "    </tr>\n",
              "    <tr>\n",
              "      <th>99999</th>\n",
              "      <td>อาหาร คือ แพรว</td>\n",
              "      <td>No</td>\n",
              "    </tr>\n",
              "  </tbody>\n",
              "</table>\n",
              "<p>100000 rows × 2 columns</p>\n",
              "</div>\n",
              "    <div class=\"colab-df-buttons\">\n",
              "\n",
              "  <div class=\"colab-df-container\">\n",
              "    <button class=\"colab-df-convert\" onclick=\"convertToInteractive('df-c03042b0-9344-4922-bdd0-63cea493ab99')\"\n",
              "            title=\"Convert this dataframe to an interactive table.\"\n",
              "            style=\"display:none;\">\n",
              "\n",
              "  <svg xmlns=\"http://www.w3.org/2000/svg\" height=\"24px\" viewBox=\"0 -960 960 960\">\n",
              "    <path d=\"M120-120v-720h720v720H120Zm60-500h600v-160H180v160Zm220 220h160v-160H400v160Zm0 220h160v-160H400v160ZM180-400h160v-160H180v160Zm440 0h160v-160H620v160ZM180-180h160v-160H180v160Zm440 0h160v-160H620v160Z\"/>\n",
              "  </svg>\n",
              "    </button>\n",
              "\n",
              "  <style>\n",
              "    .colab-df-container {\n",
              "      display:flex;\n",
              "      gap: 12px;\n",
              "    }\n",
              "\n",
              "    .colab-df-convert {\n",
              "      background-color: #E8F0FE;\n",
              "      border: none;\n",
              "      border-radius: 50%;\n",
              "      cursor: pointer;\n",
              "      display: none;\n",
              "      fill: #1967D2;\n",
              "      height: 32px;\n",
              "      padding: 0 0 0 0;\n",
              "      width: 32px;\n",
              "    }\n",
              "\n",
              "    .colab-df-convert:hover {\n",
              "      background-color: #E2EBFA;\n",
              "      box-shadow: 0px 1px 2px rgba(60, 64, 67, 0.3), 0px 1px 3px 1px rgba(60, 64, 67, 0.15);\n",
              "      fill: #174EA6;\n",
              "    }\n",
              "\n",
              "    .colab-df-buttons div {\n",
              "      margin-bottom: 4px;\n",
              "    }\n",
              "\n",
              "    [theme=dark] .colab-df-convert {\n",
              "      background-color: #3B4455;\n",
              "      fill: #D2E3FC;\n",
              "    }\n",
              "\n",
              "    [theme=dark] .colab-df-convert:hover {\n",
              "      background-color: #434B5C;\n",
              "      box-shadow: 0px 1px 3px 1px rgba(0, 0, 0, 0.15);\n",
              "      filter: drop-shadow(0px 1px 2px rgba(0, 0, 0, 0.3));\n",
              "      fill: #FFFFFF;\n",
              "    }\n",
              "  </style>\n",
              "\n",
              "    <script>\n",
              "      const buttonEl =\n",
              "        document.querySelector('#df-c03042b0-9344-4922-bdd0-63cea493ab99 button.colab-df-convert');\n",
              "      buttonEl.style.display =\n",
              "        google.colab.kernel.accessAllowed ? 'block' : 'none';\n",
              "\n",
              "      async function convertToInteractive(key) {\n",
              "        const element = document.querySelector('#df-c03042b0-9344-4922-bdd0-63cea493ab99');\n",
              "        const dataTable =\n",
              "          await google.colab.kernel.invokeFunction('convertToInteractive',\n",
              "                                                    [key], {});\n",
              "        if (!dataTable) return;\n",
              "\n",
              "        const docLinkHtml = 'Like what you see? Visit the ' +\n",
              "          '<a target=\"_blank\" href=https://colab.research.google.com/notebooks/data_table.ipynb>data table notebook</a>'\n",
              "          + ' to learn more about interactive tables.';\n",
              "        element.innerHTML = '';\n",
              "        dataTable['output_type'] = 'display_data';\n",
              "        await google.colab.output.renderOutput(dataTable, element);\n",
              "        const docLink = document.createElement('div');\n",
              "        docLink.innerHTML = docLinkHtml;\n",
              "        element.appendChild(docLink);\n",
              "      }\n",
              "    </script>\n",
              "  </div>\n",
              "\n",
              "\n",
              "<div id=\"df-d52e5d78-3e3c-48a0-8f83-9abbaac70ba3\">\n",
              "  <button class=\"colab-df-quickchart\" onclick=\"quickchart('df-d52e5d78-3e3c-48a0-8f83-9abbaac70ba3')\"\n",
              "            title=\"Suggest charts\"\n",
              "            style=\"display:none;\">\n",
              "\n",
              "<svg xmlns=\"http://www.w3.org/2000/svg\" height=\"24px\"viewBox=\"0 0 24 24\"\n",
              "     width=\"24px\">\n",
              "    <g>\n",
              "        <path d=\"M19 3H5c-1.1 0-2 .9-2 2v14c0 1.1.9 2 2 2h14c1.1 0 2-.9 2-2V5c0-1.1-.9-2-2-2zM9 17H7v-7h2v7zm4 0h-2V7h2v10zm4 0h-2v-4h2v4z\"/>\n",
              "    </g>\n",
              "</svg>\n",
              "  </button>\n",
              "\n",
              "<style>\n",
              "  .colab-df-quickchart {\n",
              "      --bg-color: #E8F0FE;\n",
              "      --fill-color: #1967D2;\n",
              "      --hover-bg-color: #E2EBFA;\n",
              "      --hover-fill-color: #174EA6;\n",
              "      --disabled-fill-color: #AAA;\n",
              "      --disabled-bg-color: #DDD;\n",
              "  }\n",
              "\n",
              "  [theme=dark] .colab-df-quickchart {\n",
              "      --bg-color: #3B4455;\n",
              "      --fill-color: #D2E3FC;\n",
              "      --hover-bg-color: #434B5C;\n",
              "      --hover-fill-color: #FFFFFF;\n",
              "      --disabled-bg-color: #3B4455;\n",
              "      --disabled-fill-color: #666;\n",
              "  }\n",
              "\n",
              "  .colab-df-quickchart {\n",
              "    background-color: var(--bg-color);\n",
              "    border: none;\n",
              "    border-radius: 50%;\n",
              "    cursor: pointer;\n",
              "    display: none;\n",
              "    fill: var(--fill-color);\n",
              "    height: 32px;\n",
              "    padding: 0;\n",
              "    width: 32px;\n",
              "  }\n",
              "\n",
              "  .colab-df-quickchart:hover {\n",
              "    background-color: var(--hover-bg-color);\n",
              "    box-shadow: 0 1px 2px rgba(60, 64, 67, 0.3), 0 1px 3px 1px rgba(60, 64, 67, 0.15);\n",
              "    fill: var(--button-hover-fill-color);\n",
              "  }\n",
              "\n",
              "  .colab-df-quickchart-complete:disabled,\n",
              "  .colab-df-quickchart-complete:disabled:hover {\n",
              "    background-color: var(--disabled-bg-color);\n",
              "    fill: var(--disabled-fill-color);\n",
              "    box-shadow: none;\n",
              "  }\n",
              "\n",
              "  .colab-df-spinner {\n",
              "    border: 2px solid var(--fill-color);\n",
              "    border-color: transparent;\n",
              "    border-bottom-color: var(--fill-color);\n",
              "    animation:\n",
              "      spin 1s steps(1) infinite;\n",
              "  }\n",
              "\n",
              "  @keyframes spin {\n",
              "    0% {\n",
              "      border-color: transparent;\n",
              "      border-bottom-color: var(--fill-color);\n",
              "      border-left-color: var(--fill-color);\n",
              "    }\n",
              "    20% {\n",
              "      border-color: transparent;\n",
              "      border-left-color: var(--fill-color);\n",
              "      border-top-color: var(--fill-color);\n",
              "    }\n",
              "    30% {\n",
              "      border-color: transparent;\n",
              "      border-left-color: var(--fill-color);\n",
              "      border-top-color: var(--fill-color);\n",
              "      border-right-color: var(--fill-color);\n",
              "    }\n",
              "    40% {\n",
              "      border-color: transparent;\n",
              "      border-right-color: var(--fill-color);\n",
              "      border-top-color: var(--fill-color);\n",
              "    }\n",
              "    60% {\n",
              "      border-color: transparent;\n",
              "      border-right-color: var(--fill-color);\n",
              "    }\n",
              "    80% {\n",
              "      border-color: transparent;\n",
              "      border-right-color: var(--fill-color);\n",
              "      border-bottom-color: var(--fill-color);\n",
              "    }\n",
              "    90% {\n",
              "      border-color: transparent;\n",
              "      border-bottom-color: var(--fill-color);\n",
              "    }\n",
              "  }\n",
              "</style>\n",
              "\n",
              "  <script>\n",
              "    async function quickchart(key) {\n",
              "      const quickchartButtonEl =\n",
              "        document.querySelector('#' + key + ' button');\n",
              "      quickchartButtonEl.disabled = true;  // To prevent multiple clicks.\n",
              "      quickchartButtonEl.classList.add('colab-df-spinner');\n",
              "      try {\n",
              "        const charts = await google.colab.kernel.invokeFunction(\n",
              "            'suggestCharts', [key], {});\n",
              "      } catch (error) {\n",
              "        console.error('Error during call to suggestCharts:', error);\n",
              "      }\n",
              "      quickchartButtonEl.classList.remove('colab-df-spinner');\n",
              "      quickchartButtonEl.classList.add('colab-df-quickchart-complete');\n",
              "    }\n",
              "    (() => {\n",
              "      let quickchartButtonEl =\n",
              "        document.querySelector('#df-d52e5d78-3e3c-48a0-8f83-9abbaac70ba3 button');\n",
              "      quickchartButtonEl.style.display =\n",
              "        google.colab.kernel.accessAllowed ? 'block' : 'none';\n",
              "    })();\n",
              "  </script>\n",
              "</div>\n",
              "\n",
              "  <div id=\"id_0fb60098-3faf-4bd0-9852-b699c02d43c0\">\n",
              "    <style>\n",
              "      .colab-df-generate {\n",
              "        background-color: #E8F0FE;\n",
              "        border: none;\n",
              "        border-radius: 50%;\n",
              "        cursor: pointer;\n",
              "        display: none;\n",
              "        fill: #1967D2;\n",
              "        height: 32px;\n",
              "        padding: 0 0 0 0;\n",
              "        width: 32px;\n",
              "      }\n",
              "\n",
              "      .colab-df-generate:hover {\n",
              "        background-color: #E2EBFA;\n",
              "        box-shadow: 0px 1px 2px rgba(60, 64, 67, 0.3), 0px 1px 3px 1px rgba(60, 64, 67, 0.15);\n",
              "        fill: #174EA6;\n",
              "      }\n",
              "\n",
              "      [theme=dark] .colab-df-generate {\n",
              "        background-color: #3B4455;\n",
              "        fill: #D2E3FC;\n",
              "      }\n",
              "\n",
              "      [theme=dark] .colab-df-generate:hover {\n",
              "        background-color: #434B5C;\n",
              "        box-shadow: 0px 1px 3px 1px rgba(0, 0, 0, 0.15);\n",
              "        filter: drop-shadow(0px 1px 2px rgba(0, 0, 0, 0.3));\n",
              "        fill: #FFFFFF;\n",
              "      }\n",
              "    </style>\n",
              "    <button class=\"colab-df-generate\" onclick=\"generateWithVariable('df')\"\n",
              "            title=\"Generate code using this dataframe.\"\n",
              "            style=\"display:none;\">\n",
              "\n",
              "  <svg xmlns=\"http://www.w3.org/2000/svg\" height=\"24px\"viewBox=\"0 0 24 24\"\n",
              "       width=\"24px\">\n",
              "    <path d=\"M7,19H8.4L18.45,9,17,7.55,7,17.6ZM5,21V16.75L18.45,3.32a2,2,0,0,1,2.83,0l1.4,1.43a1.91,1.91,0,0,1,.58,1.4,1.91,1.91,0,0,1-.58,1.4L9.25,21ZM18.45,9,17,7.55Zm-12,3A5.31,5.31,0,0,0,4.9,8.1,5.31,5.31,0,0,0,1,6.5,5.31,5.31,0,0,0,4.9,4.9,5.31,5.31,0,0,0,6.5,1,5.31,5.31,0,0,0,8.1,4.9,5.31,5.31,0,0,0,12,6.5,5.46,5.46,0,0,0,6.5,12Z\"/>\n",
              "  </svg>\n",
              "    </button>\n",
              "    <script>\n",
              "      (() => {\n",
              "      const buttonEl =\n",
              "        document.querySelector('#id_0fb60098-3faf-4bd0-9852-b699c02d43c0 button.colab-df-generate');\n",
              "      buttonEl.style.display =\n",
              "        google.colab.kernel.accessAllowed ? 'block' : 'none';\n",
              "\n",
              "      buttonEl.onclick = () => {\n",
              "        google.colab.notebook.generateWithVariable('df');\n",
              "      }\n",
              "      })();\n",
              "    </script>\n",
              "  </div>\n",
              "\n",
              "    </div>\n",
              "  </div>\n"
            ],
            "application/vnd.google.colaboratory.intrinsic+json": {
              "type": "dataframe",
              "variable_name": "df",
              "summary": "{\n  \"name\": \"df\",\n  \"rows\": 100000,\n  \"fields\": [\n    {\n      \"column\": \"Sentence\",\n      \"properties\": {\n        \"dtype\": \"string\",\n        \"num_unique_values\": 97883,\n        \"samples\": [\n          \"\\u0e21\\u0e35\\u0e2d\\u0e30\\u0e44\\u0e23 \\u0e2d\\u0e22\\u0e48\\u0e32\\u0e07\\u0e19\\u0e48\\u0e32\\u0e2a\\u0e07\\u0e2a\\u0e31\\u0e22 \\u0e04\\u0e27\\u0e32\\u0e21\\u0e1d\\u0e31\\u0e19 \\u0e1b\\u0e27\\u0e14\",\n          \"\\u0e42\\u0e23\\u0e07\\u0e40\\u0e23\\u0e35\\u0e22\\u0e19 \\u0e04\\u0e37\\u0e2d \\u0e04\\u0e2d\\u0e21\\u0e1e\\u0e34\\u0e27\\u0e40\\u0e15\\u0e2d\\u0e23\\u0e4c \\u0e40\\u0e1e\\u0e23\\u0e32\\u0e30\\u0e27\\u0e48\\u0e32 \\u0e40\\u0e04\\u0e23\\u0e37\\u0e48\\u0e2d\\u0e07\\u0e14\\u0e37\\u0e48\\u0e21 \\u0e16\\u0e48\\u0e32\\u0e22\\u0e23\\u0e39\\u0e1b \\u0e2a\\u0e38\\u0e02 \\u0e2b\\u0e23\\u0e37\\u0e2d \\u0e40\\u0e04\\u0e23\\u0e37\\u0e48\\u0e2d\\u0e07\\u0e1b\\u0e23\\u0e30\\u0e14\\u0e31\\u0e1a \\u0e04\\u0e37\\u0e2d \\u0e2d\\u0e22\\u0e48\\u0e32\\u0e07\\u0e41\\u0e19\\u0e48\\u0e27\\u0e41\\u0e19\\u0e48 \\u0e17\\u0e49\\u0e2d\\u0e41\\u0e17\\u0e49 \\u0e40\\u0e01\\u0e21\",\n          \"\\u0e2a\\u0e38\\u0e02\\u0e20\\u0e32\\u0e1e \\u0e44\\u0e1b\\u0e22\\u0e31\\u0e07 \\u0e2a\\u0e31\\u0e07\\u0e04\\u0e21 \\u0e23\\u0e48\\u0e32\\u0e07\\u0e01\\u0e32\\u0e22 \\u0e22\\u0e01\\u0e40\\u0e27\\u0e49\\u0e19\\u0e27\\u0e48\\u0e32 \\u0e08\\u0e34\\u0e15\\u0e43\\u0e08 \\u0e2d\\u0e22\\u0e48\\u0e32\\u0e07\\u0e23\\u0e35\\u0e1a\\u0e40\\u0e23\\u0e48\\u0e07 \\u0e0a\\u0e2d\\u0e1a \\u0e2b\\u0e48\\u0e27\\u0e22 \\u0e41\\u0e15\\u0e48 \\u0e15\\u0e49\\u0e19\\u0e44\\u0e21\\u0e49 \\u0e15\\u0e37\\u0e48\\u0e19\\u0e40\\u0e15\\u0e49\\u0e19 \\u0e19\\u0e48\\u0e32\\u0e23\\u0e31\\u0e01\\u0e19\\u0e48\\u0e32\\u0e40\\u0e2d\\u0e47\\u0e19\\u0e14\\u0e39 \\u0e40\\u0e1e\\u0e23\\u0e32\\u0e30\\u0e27\\u0e48\\u0e32 \\u0e2a\\u0e31\\u0e15\\u0e27\\u0e4c \\u0e04\\u0e37\\u0e2d \\u0e02\\u0e2d\\u0e07\\u0e40\\u0e25\\u0e48\\u0e19\"\n        ],\n        \"semantic_type\": \"\",\n        \"description\": \"\"\n      }\n    },\n    {\n      \"column\": \"Label\",\n      \"properties\": {\n        \"dtype\": \"category\",\n        \"num_unique_values\": 2,\n        \"samples\": [\n          \"No\",\n          \"Yes\"\n        ],\n        \"semantic_type\": \"\",\n        \"description\": \"\"\n      }\n    }\n  ]\n}"
            }
          },
          "metadata": {},
          "execution_count": 155
        }
      ]
    },
    {
      "cell_type": "code",
      "source": [
        "df[\"Label\"].value_counts()"
      ],
      "metadata": {
        "colab": {
          "base_uri": "https://localhost:8080/",
          "height": 178
        },
        "id": "OsEaeNmbHOli",
        "outputId": "6c994ca1-e777-4342-9111-4164aee80737"
      },
      "execution_count": 156,
      "outputs": [
        {
          "output_type": "execute_result",
          "data": {
            "text/plain": [
              "Label\n",
              "No     55701\n",
              "Yes    44299\n",
              "Name: count, dtype: int64"
            ],
            "text/html": [
              "<div>\n",
              "<style scoped>\n",
              "    .dataframe tbody tr th:only-of-type {\n",
              "        vertical-align: middle;\n",
              "    }\n",
              "\n",
              "    .dataframe tbody tr th {\n",
              "        vertical-align: top;\n",
              "    }\n",
              "\n",
              "    .dataframe thead th {\n",
              "        text-align: right;\n",
              "    }\n",
              "</style>\n",
              "<table border=\"1\" class=\"dataframe\">\n",
              "  <thead>\n",
              "    <tr style=\"text-align: right;\">\n",
              "      <th></th>\n",
              "      <th>count</th>\n",
              "    </tr>\n",
              "    <tr>\n",
              "      <th>Label</th>\n",
              "      <th></th>\n",
              "    </tr>\n",
              "  </thead>\n",
              "  <tbody>\n",
              "    <tr>\n",
              "      <th>No</th>\n",
              "      <td>55701</td>\n",
              "    </tr>\n",
              "    <tr>\n",
              "      <th>Yes</th>\n",
              "      <td>44299</td>\n",
              "    </tr>\n",
              "  </tbody>\n",
              "</table>\n",
              "</div><br><label><b>dtype:</b> int64</label>"
            ]
          },
          "metadata": {},
          "execution_count": 156
        }
      ]
    },
    {
      "cell_type": "code",
      "source": [
        "# save file to csv\n",
        "df.to_csv('sentiment_dataset.csv', index=False)\n",
        "\n",
        "print(\"Dataset has been generated successfully.\")"
      ],
      "metadata": {
        "colab": {
          "base_uri": "https://localhost:8080/"
        },
        "id": "hOI1n8NyERPc",
        "outputId": "e4cf7b9c-0ae2-473b-c58b-9ea10d66f506"
      },
      "execution_count": 157,
      "outputs": [
        {
          "output_type": "stream",
          "name": "stdout",
          "text": [
            "Dataset has been generated successfully.\n"
          ]
        }
      ]
    },
    {
      "cell_type": "markdown",
      "source": [
        "# Text Classification with Naive Bayes"
      ],
      "metadata": {
        "id": "EH0WFL2cKnIr"
      }
    },
    {
      "cell_type": "markdown",
      "source": [
        "## Read Data"
      ],
      "metadata": {
        "id": "nWExYvbEK3YL"
      }
    },
    {
      "cell_type": "code",
      "source": [
        "df = pd.read_csv('sentiment_dataset.csv')\n",
        "df.head()"
      ],
      "metadata": {
        "colab": {
          "base_uri": "https://localhost:8080/",
          "height": 206
        },
        "id": "ZwhdBPXaKmvV",
        "outputId": "e5b9eb1e-c9ca-4b0c-e2fe-4419c87e056a"
      },
      "execution_count": 158,
      "outputs": [
        {
          "output_type": "execute_result",
          "data": {
            "text/plain": [
              "                                            Sentence Label\n",
              "0                             บ้าน คือ เครื่องประดับ   Yes\n",
              "1                              กฎหมาย เข้าใจ เศร้าใจ    No\n",
              "2                                  เศรษฐกิจ คือ อดีต   Yes\n",
              "3  ความคิด อย่างน่าขำ พัฒนา ชีวิต หรือ อดีต อย่าง...    No\n",
              "4                             คุณทำอย่างไร ชีวิต ช้า    No"
            ],
            "text/html": [
              "\n",
              "  <div id=\"df-d9cc48bb-491d-471a-a27e-c11269ecf030\" class=\"colab-df-container\">\n",
              "    <div>\n",
              "<style scoped>\n",
              "    .dataframe tbody tr th:only-of-type {\n",
              "        vertical-align: middle;\n",
              "    }\n",
              "\n",
              "    .dataframe tbody tr th {\n",
              "        vertical-align: top;\n",
              "    }\n",
              "\n",
              "    .dataframe thead th {\n",
              "        text-align: right;\n",
              "    }\n",
              "</style>\n",
              "<table border=\"1\" class=\"dataframe\">\n",
              "  <thead>\n",
              "    <tr style=\"text-align: right;\">\n",
              "      <th></th>\n",
              "      <th>Sentence</th>\n",
              "      <th>Label</th>\n",
              "    </tr>\n",
              "  </thead>\n",
              "  <tbody>\n",
              "    <tr>\n",
              "      <th>0</th>\n",
              "      <td>บ้าน คือ เครื่องประดับ</td>\n",
              "      <td>Yes</td>\n",
              "    </tr>\n",
              "    <tr>\n",
              "      <th>1</th>\n",
              "      <td>กฎหมาย เข้าใจ เศร้าใจ</td>\n",
              "      <td>No</td>\n",
              "    </tr>\n",
              "    <tr>\n",
              "      <th>2</th>\n",
              "      <td>เศรษฐกิจ คือ อดีต</td>\n",
              "      <td>Yes</td>\n",
              "    </tr>\n",
              "    <tr>\n",
              "      <th>3</th>\n",
              "      <td>ความคิด อย่างน่าขำ พัฒนา ชีวิต หรือ อดีต อย่าง...</td>\n",
              "      <td>No</td>\n",
              "    </tr>\n",
              "    <tr>\n",
              "      <th>4</th>\n",
              "      <td>คุณทำอย่างไร ชีวิต ช้า</td>\n",
              "      <td>No</td>\n",
              "    </tr>\n",
              "  </tbody>\n",
              "</table>\n",
              "</div>\n",
              "    <div class=\"colab-df-buttons\">\n",
              "\n",
              "  <div class=\"colab-df-container\">\n",
              "    <button class=\"colab-df-convert\" onclick=\"convertToInteractive('df-d9cc48bb-491d-471a-a27e-c11269ecf030')\"\n",
              "            title=\"Convert this dataframe to an interactive table.\"\n",
              "            style=\"display:none;\">\n",
              "\n",
              "  <svg xmlns=\"http://www.w3.org/2000/svg\" height=\"24px\" viewBox=\"0 -960 960 960\">\n",
              "    <path d=\"M120-120v-720h720v720H120Zm60-500h600v-160H180v160Zm220 220h160v-160H400v160Zm0 220h160v-160H400v160ZM180-400h160v-160H180v160Zm440 0h160v-160H620v160ZM180-180h160v-160H180v160Zm440 0h160v-160H620v160Z\"/>\n",
              "  </svg>\n",
              "    </button>\n",
              "\n",
              "  <style>\n",
              "    .colab-df-container {\n",
              "      display:flex;\n",
              "      gap: 12px;\n",
              "    }\n",
              "\n",
              "    .colab-df-convert {\n",
              "      background-color: #E8F0FE;\n",
              "      border: none;\n",
              "      border-radius: 50%;\n",
              "      cursor: pointer;\n",
              "      display: none;\n",
              "      fill: #1967D2;\n",
              "      height: 32px;\n",
              "      padding: 0 0 0 0;\n",
              "      width: 32px;\n",
              "    }\n",
              "\n",
              "    .colab-df-convert:hover {\n",
              "      background-color: #E2EBFA;\n",
              "      box-shadow: 0px 1px 2px rgba(60, 64, 67, 0.3), 0px 1px 3px 1px rgba(60, 64, 67, 0.15);\n",
              "      fill: #174EA6;\n",
              "    }\n",
              "\n",
              "    .colab-df-buttons div {\n",
              "      margin-bottom: 4px;\n",
              "    }\n",
              "\n",
              "    [theme=dark] .colab-df-convert {\n",
              "      background-color: #3B4455;\n",
              "      fill: #D2E3FC;\n",
              "    }\n",
              "\n",
              "    [theme=dark] .colab-df-convert:hover {\n",
              "      background-color: #434B5C;\n",
              "      box-shadow: 0px 1px 3px 1px rgba(0, 0, 0, 0.15);\n",
              "      filter: drop-shadow(0px 1px 2px rgba(0, 0, 0, 0.3));\n",
              "      fill: #FFFFFF;\n",
              "    }\n",
              "  </style>\n",
              "\n",
              "    <script>\n",
              "      const buttonEl =\n",
              "        document.querySelector('#df-d9cc48bb-491d-471a-a27e-c11269ecf030 button.colab-df-convert');\n",
              "      buttonEl.style.display =\n",
              "        google.colab.kernel.accessAllowed ? 'block' : 'none';\n",
              "\n",
              "      async function convertToInteractive(key) {\n",
              "        const element = document.querySelector('#df-d9cc48bb-491d-471a-a27e-c11269ecf030');\n",
              "        const dataTable =\n",
              "          await google.colab.kernel.invokeFunction('convertToInteractive',\n",
              "                                                    [key], {});\n",
              "        if (!dataTable) return;\n",
              "\n",
              "        const docLinkHtml = 'Like what you see? Visit the ' +\n",
              "          '<a target=\"_blank\" href=https://colab.research.google.com/notebooks/data_table.ipynb>data table notebook</a>'\n",
              "          + ' to learn more about interactive tables.';\n",
              "        element.innerHTML = '';\n",
              "        dataTable['output_type'] = 'display_data';\n",
              "        await google.colab.output.renderOutput(dataTable, element);\n",
              "        const docLink = document.createElement('div');\n",
              "        docLink.innerHTML = docLinkHtml;\n",
              "        element.appendChild(docLink);\n",
              "      }\n",
              "    </script>\n",
              "  </div>\n",
              "\n",
              "\n",
              "<div id=\"df-c1a2e647-6d60-4736-b8e3-c57292fa4fa8\">\n",
              "  <button class=\"colab-df-quickchart\" onclick=\"quickchart('df-c1a2e647-6d60-4736-b8e3-c57292fa4fa8')\"\n",
              "            title=\"Suggest charts\"\n",
              "            style=\"display:none;\">\n",
              "\n",
              "<svg xmlns=\"http://www.w3.org/2000/svg\" height=\"24px\"viewBox=\"0 0 24 24\"\n",
              "     width=\"24px\">\n",
              "    <g>\n",
              "        <path d=\"M19 3H5c-1.1 0-2 .9-2 2v14c0 1.1.9 2 2 2h14c1.1 0 2-.9 2-2V5c0-1.1-.9-2-2-2zM9 17H7v-7h2v7zm4 0h-2V7h2v10zm4 0h-2v-4h2v4z\"/>\n",
              "    </g>\n",
              "</svg>\n",
              "  </button>\n",
              "\n",
              "<style>\n",
              "  .colab-df-quickchart {\n",
              "      --bg-color: #E8F0FE;\n",
              "      --fill-color: #1967D2;\n",
              "      --hover-bg-color: #E2EBFA;\n",
              "      --hover-fill-color: #174EA6;\n",
              "      --disabled-fill-color: #AAA;\n",
              "      --disabled-bg-color: #DDD;\n",
              "  }\n",
              "\n",
              "  [theme=dark] .colab-df-quickchart {\n",
              "      --bg-color: #3B4455;\n",
              "      --fill-color: #D2E3FC;\n",
              "      --hover-bg-color: #434B5C;\n",
              "      --hover-fill-color: #FFFFFF;\n",
              "      --disabled-bg-color: #3B4455;\n",
              "      --disabled-fill-color: #666;\n",
              "  }\n",
              "\n",
              "  .colab-df-quickchart {\n",
              "    background-color: var(--bg-color);\n",
              "    border: none;\n",
              "    border-radius: 50%;\n",
              "    cursor: pointer;\n",
              "    display: none;\n",
              "    fill: var(--fill-color);\n",
              "    height: 32px;\n",
              "    padding: 0;\n",
              "    width: 32px;\n",
              "  }\n",
              "\n",
              "  .colab-df-quickchart:hover {\n",
              "    background-color: var(--hover-bg-color);\n",
              "    box-shadow: 0 1px 2px rgba(60, 64, 67, 0.3), 0 1px 3px 1px rgba(60, 64, 67, 0.15);\n",
              "    fill: var(--button-hover-fill-color);\n",
              "  }\n",
              "\n",
              "  .colab-df-quickchart-complete:disabled,\n",
              "  .colab-df-quickchart-complete:disabled:hover {\n",
              "    background-color: var(--disabled-bg-color);\n",
              "    fill: var(--disabled-fill-color);\n",
              "    box-shadow: none;\n",
              "  }\n",
              "\n",
              "  .colab-df-spinner {\n",
              "    border: 2px solid var(--fill-color);\n",
              "    border-color: transparent;\n",
              "    border-bottom-color: var(--fill-color);\n",
              "    animation:\n",
              "      spin 1s steps(1) infinite;\n",
              "  }\n",
              "\n",
              "  @keyframes spin {\n",
              "    0% {\n",
              "      border-color: transparent;\n",
              "      border-bottom-color: var(--fill-color);\n",
              "      border-left-color: var(--fill-color);\n",
              "    }\n",
              "    20% {\n",
              "      border-color: transparent;\n",
              "      border-left-color: var(--fill-color);\n",
              "      border-top-color: var(--fill-color);\n",
              "    }\n",
              "    30% {\n",
              "      border-color: transparent;\n",
              "      border-left-color: var(--fill-color);\n",
              "      border-top-color: var(--fill-color);\n",
              "      border-right-color: var(--fill-color);\n",
              "    }\n",
              "    40% {\n",
              "      border-color: transparent;\n",
              "      border-right-color: var(--fill-color);\n",
              "      border-top-color: var(--fill-color);\n",
              "    }\n",
              "    60% {\n",
              "      border-color: transparent;\n",
              "      border-right-color: var(--fill-color);\n",
              "    }\n",
              "    80% {\n",
              "      border-color: transparent;\n",
              "      border-right-color: var(--fill-color);\n",
              "      border-bottom-color: var(--fill-color);\n",
              "    }\n",
              "    90% {\n",
              "      border-color: transparent;\n",
              "      border-bottom-color: var(--fill-color);\n",
              "    }\n",
              "  }\n",
              "</style>\n",
              "\n",
              "  <script>\n",
              "    async function quickchart(key) {\n",
              "      const quickchartButtonEl =\n",
              "        document.querySelector('#' + key + ' button');\n",
              "      quickchartButtonEl.disabled = true;  // To prevent multiple clicks.\n",
              "      quickchartButtonEl.classList.add('colab-df-spinner');\n",
              "      try {\n",
              "        const charts = await google.colab.kernel.invokeFunction(\n",
              "            'suggestCharts', [key], {});\n",
              "      } catch (error) {\n",
              "        console.error('Error during call to suggestCharts:', error);\n",
              "      }\n",
              "      quickchartButtonEl.classList.remove('colab-df-spinner');\n",
              "      quickchartButtonEl.classList.add('colab-df-quickchart-complete');\n",
              "    }\n",
              "    (() => {\n",
              "      let quickchartButtonEl =\n",
              "        document.querySelector('#df-c1a2e647-6d60-4736-b8e3-c57292fa4fa8 button');\n",
              "      quickchartButtonEl.style.display =\n",
              "        google.colab.kernel.accessAllowed ? 'block' : 'none';\n",
              "    })();\n",
              "  </script>\n",
              "</div>\n",
              "\n",
              "    </div>\n",
              "  </div>\n"
            ],
            "application/vnd.google.colaboratory.intrinsic+json": {
              "type": "dataframe",
              "variable_name": "df",
              "summary": "{\n  \"name\": \"df\",\n  \"rows\": 100000,\n  \"fields\": [\n    {\n      \"column\": \"Sentence\",\n      \"properties\": {\n        \"dtype\": \"string\",\n        \"num_unique_values\": 97883,\n        \"samples\": [\n          \"\\u0e21\\u0e35\\u0e2d\\u0e30\\u0e44\\u0e23 \\u0e2d\\u0e22\\u0e48\\u0e32\\u0e07\\u0e19\\u0e48\\u0e32\\u0e2a\\u0e07\\u0e2a\\u0e31\\u0e22 \\u0e04\\u0e27\\u0e32\\u0e21\\u0e1d\\u0e31\\u0e19 \\u0e1b\\u0e27\\u0e14\",\n          \"\\u0e42\\u0e23\\u0e07\\u0e40\\u0e23\\u0e35\\u0e22\\u0e19 \\u0e04\\u0e37\\u0e2d \\u0e04\\u0e2d\\u0e21\\u0e1e\\u0e34\\u0e27\\u0e40\\u0e15\\u0e2d\\u0e23\\u0e4c \\u0e40\\u0e1e\\u0e23\\u0e32\\u0e30\\u0e27\\u0e48\\u0e32 \\u0e40\\u0e04\\u0e23\\u0e37\\u0e48\\u0e2d\\u0e07\\u0e14\\u0e37\\u0e48\\u0e21 \\u0e16\\u0e48\\u0e32\\u0e22\\u0e23\\u0e39\\u0e1b \\u0e2a\\u0e38\\u0e02 \\u0e2b\\u0e23\\u0e37\\u0e2d \\u0e40\\u0e04\\u0e23\\u0e37\\u0e48\\u0e2d\\u0e07\\u0e1b\\u0e23\\u0e30\\u0e14\\u0e31\\u0e1a \\u0e04\\u0e37\\u0e2d \\u0e2d\\u0e22\\u0e48\\u0e32\\u0e07\\u0e41\\u0e19\\u0e48\\u0e27\\u0e41\\u0e19\\u0e48 \\u0e17\\u0e49\\u0e2d\\u0e41\\u0e17\\u0e49 \\u0e40\\u0e01\\u0e21\",\n          \"\\u0e2a\\u0e38\\u0e02\\u0e20\\u0e32\\u0e1e \\u0e44\\u0e1b\\u0e22\\u0e31\\u0e07 \\u0e2a\\u0e31\\u0e07\\u0e04\\u0e21 \\u0e23\\u0e48\\u0e32\\u0e07\\u0e01\\u0e32\\u0e22 \\u0e22\\u0e01\\u0e40\\u0e27\\u0e49\\u0e19\\u0e27\\u0e48\\u0e32 \\u0e08\\u0e34\\u0e15\\u0e43\\u0e08 \\u0e2d\\u0e22\\u0e48\\u0e32\\u0e07\\u0e23\\u0e35\\u0e1a\\u0e40\\u0e23\\u0e48\\u0e07 \\u0e0a\\u0e2d\\u0e1a \\u0e2b\\u0e48\\u0e27\\u0e22 \\u0e41\\u0e15\\u0e48 \\u0e15\\u0e49\\u0e19\\u0e44\\u0e21\\u0e49 \\u0e15\\u0e37\\u0e48\\u0e19\\u0e40\\u0e15\\u0e49\\u0e19 \\u0e19\\u0e48\\u0e32\\u0e23\\u0e31\\u0e01\\u0e19\\u0e48\\u0e32\\u0e40\\u0e2d\\u0e47\\u0e19\\u0e14\\u0e39 \\u0e40\\u0e1e\\u0e23\\u0e32\\u0e30\\u0e27\\u0e48\\u0e32 \\u0e2a\\u0e31\\u0e15\\u0e27\\u0e4c \\u0e04\\u0e37\\u0e2d \\u0e02\\u0e2d\\u0e07\\u0e40\\u0e25\\u0e48\\u0e19\"\n        ],\n        \"semantic_type\": \"\",\n        \"description\": \"\"\n      }\n    },\n    {\n      \"column\": \"Label\",\n      \"properties\": {\n        \"dtype\": \"category\",\n        \"num_unique_values\": 2,\n        \"samples\": [\n          \"No\",\n          \"Yes\"\n        ],\n        \"semantic_type\": \"\",\n        \"description\": \"\"\n      }\n    }\n  ]\n}"
            }
          },
          "metadata": {},
          "execution_count": 158
        }
      ]
    },
    {
      "cell_type": "code",
      "source": [
        "df[\"Label\"].value_counts()"
      ],
      "metadata": {
        "colab": {
          "base_uri": "https://localhost:8080/",
          "height": 178
        },
        "id": "Nco0XjznLH6d",
        "outputId": "dee56d1a-5d51-4237-932f-acc285093bb5"
      },
      "execution_count": 159,
      "outputs": [
        {
          "output_type": "execute_result",
          "data": {
            "text/plain": [
              "Label\n",
              "No     55701\n",
              "Yes    44299\n",
              "Name: count, dtype: int64"
            ],
            "text/html": [
              "<div>\n",
              "<style scoped>\n",
              "    .dataframe tbody tr th:only-of-type {\n",
              "        vertical-align: middle;\n",
              "    }\n",
              "\n",
              "    .dataframe tbody tr th {\n",
              "        vertical-align: top;\n",
              "    }\n",
              "\n",
              "    .dataframe thead th {\n",
              "        text-align: right;\n",
              "    }\n",
              "</style>\n",
              "<table border=\"1\" class=\"dataframe\">\n",
              "  <thead>\n",
              "    <tr style=\"text-align: right;\">\n",
              "      <th></th>\n",
              "      <th>count</th>\n",
              "    </tr>\n",
              "    <tr>\n",
              "      <th>Label</th>\n",
              "      <th></th>\n",
              "    </tr>\n",
              "  </thead>\n",
              "  <tbody>\n",
              "    <tr>\n",
              "      <th>No</th>\n",
              "      <td>55701</td>\n",
              "    </tr>\n",
              "    <tr>\n",
              "      <th>Yes</th>\n",
              "      <td>44299</td>\n",
              "    </tr>\n",
              "  </tbody>\n",
              "</table>\n",
              "</div><br><label><b>dtype:</b> int64</label>"
            ]
          },
          "metadata": {},
          "execution_count": 159
        }
      ]
    },
    {
      "cell_type": "code",
      "source": [
        "pos_data = df['Sentence']\n",
        "pos_target = df['Label']"
      ],
      "metadata": {
        "id": "jqd96bTILGAF"
      },
      "execution_count": 160,
      "outputs": []
    },
    {
      "cell_type": "markdown",
      "source": [
        "## Algorithm"
      ],
      "metadata": {
        "id": "QINUOqKKLRyG"
      }
    },
    {
      "cell_type": "markdown",
      "source": [
        "### Train test split"
      ],
      "metadata": {
        "id": "QyyJtrQwLWJk"
      }
    },
    {
      "cell_type": "code",
      "source": [
        "from sklearn.feature_extraction.text import CountVectorizer\n",
        "from sklearn.feature_extraction.text import TfidfTransformer\n",
        "from sklearn.naive_bayes import MultinomialNB\n",
        "from sklearn.metrics import accuracy_score\n",
        "\n",
        "from sklearn.model_selection import train_test_split\n",
        "\n",
        "vectorizer=CountVectorizer(tokenizer=lambda x: x.split())\n",
        "tfidf =TfidfTransformer()\n",
        "X =vectorizer.fit_transform(pos_data)\n",
        "X = tfidf.fit_transform(X)\n",
        "X_train, X_test, Y_train, Y_test = train_test_split(X,pos_target, test_size = 0.10, random_state = 42)\n",
        "clf = MultinomialNB().fit(X_train,Y_train)\n",
        "Y_predict = clf.predict(X_test)\n",
        "accuracy_score(Y_test, Y_predict)"
      ],
      "metadata": {
        "id": "vK0W4Qz0LVr0"
      },
      "execution_count": 172,
      "outputs": []
    },
    {
      "cell_type": "code",
      "source": [
        "X_train"
      ],
      "metadata": {
        "colab": {
          "base_uri": "https://localhost:8080/"
        },
        "id": "cVQc-3FPMoQi",
        "outputId": "82bdf5b8-5de0-4ee2-e380-eaf08771ff74"
      },
      "execution_count": 162,
      "outputs": [
        {
          "output_type": "execute_result",
          "data": {
            "text/plain": [
              "<90000x363 sparse matrix of type '<class 'numpy.float64'>'\n",
              "\twith 691313 stored elements in Compressed Sparse Row format>"
            ]
          },
          "metadata": {},
          "execution_count": 162
        }
      ]
    },
    {
      "cell_type": "markdown",
      "source": [
        "## Test Model"
      ],
      "metadata": {
        "id": "GHzKJAWENDTt"
      }
    },
    {
      "cell_type": "code",
      "source": [
        "docs_news = [generate_sentence(i) for i in range(3, 50)]"
      ],
      "metadata": {
        "id": "P0BJIYD-M-Sy"
      },
      "execution_count": 163,
      "outputs": []
    },
    {
      "cell_type": "code",
      "source": [
        "docs_news"
      ],
      "metadata": {
        "colab": {
          "base_uri": "https://localhost:8080/"
        },
        "id": "CcbvqI3hL62T",
        "outputId": "7d364f3a-37d2-46cc-a844-00ca4c2d1eae"
      },
      "execution_count": 164,
      "outputs": [
        {
          "output_type": "execute_result",
          "data": {
            "text/plain": [
              "['เงิน หัวเราะ ปลอดภัย',\n",
              " 'อย่างไรคุณถึงรู้ ดนตรี ต่อสู้',\n",
              " 'ของเล่น ทดสอบ ไฟ',\n",
              " 'จะทำอย่างไร ปัญหา นับถือ',\n",
              " 'สิ่งนี้คืออะไร อนาคต เสีย ราวกับว่า รองเท้า ให้ ความเย็น อย่างน่าภาคภูมิใจ เสียง',\n",
              " 'จะทำอย่างไร วัฒนธรรม รีบ',\n",
              " 'แพรว คือ ทะเล เพราะว่า แมว ฟัง ผ่อนคลาย และ ศิลปะ เกลียดชัง วิทยาศาสตร์',\n",
              " 'รสชาติ ให้ ภูเขา ภาษา',\n",
              " 'เราจะทำอย่างไรดี ธรรมชาติ อย่างสวยงาม ปรับปรุง',\n",
              " 'ภูเขา รอ มีชีวิตชีวา ราวกับว่า เนื้อสัตว์ อ่าน เสื้อผ้า',\n",
              " 'ภาพยนตร์ สนุก อย่างน่าประหลาดใจ สงบ',\n",
              " 'แมว คือ การเดินทาง',\n",
              " 'ดนตรี รีบ สกปรก',\n",
              " 'ภาพยนตร์ ว่าง น่าผิดหวัง',\n",
              " 'แมว พัฒนา น่าตื่นเต้น และ อดีต สบายใจ อย่างสนุกสนาน วรรณกรรม',\n",
              " 'ปัญหา ดำเนินการ ปัจจุบัน แต่ เมือง อย่างแรง ซื้อ เฟอร์นิเจอร์',\n",
              " 'ความสุข ตกใจ รสชาติ',\n",
              " 'เขาเป็นใคร ทะเล เข้าใจ',\n",
              " 'ขนม อยู่ เกม ยกเว้นว่า งาน ว่าง สะดวก',\n",
              " 'จะทำอย่างไร สี ขับ ในทำนองเดียวกัน หนังสือ คือ ความรัก ในทำนองเดียวกัน รสชาติ คือ ประวัติศาสตร์ ราวกับว่า เกิดอะไรขึ้น เพื่อน จริง ๆ อย่างดีเยี่ยม ไป',\n",
              " 'สี โคตร เบื่อ สัตว์',\n",
              " 'เพื่อน ช่วย ไม่สมบูรณ์แบบ',\n",
              " 'สุขภาพ อย่างน่ากลัว ดูแล เก่า',\n",
              " 'หมา สามารถ อย่างดัง บาง',\n",
              " 'หนังสือ นอน มีเสน่ห์',\n",
              " 'ลม คือ อย่างไม่เป็นธรรมชาติ ความร้อน',\n",
              " 'ลม ไปยัง วิทยาศาสตร์ ชีวิต ในทำนองเดียวกัน วัฒนธรรม นับถือ กระเป๋า',\n",
              " 'อนาคต มี เล็ก',\n",
              " 'ภูเขา คือ ร่างกาย ราวกับว่า เขาเป็นใคร ต้นไม้ อย่างน่าเบื่อ หา',\n",
              " 'เกม คือ เสียง',\n",
              " 'คุณมีใครให้ฉัน ธรรมชาติ พูด หรือ คอมพิวเตอร์ บอก ความรัก การเมือง ราวกับว่า ความเย็น ควบคุม น่าทึ่ง แต่ ความฝัน คือ อย่างไม่เป็นธรรมชาติ อย่างน่าขำ อดีต',\n",
              " 'ประเทศ สามารถ ชีวิต',\n",
              " 'งาน อย่างน่ารัก รักษา รสชาติ',\n",
              " 'บ้าน ร้องไห้ สงบ แต่ วัฒนธรรม กิน ไม่มีค่า',\n",
              " 'สุขภาพ คือ อนาคต และ จิตใจ ให้ เพื่อน ครอบครัว',\n",
              " 'จิตใจ ให้ หนังสือ ภาพยนตร์ แต่ งาน พักผ่อน ฉลาด เพราะว่า ศาสนา ปกป้อง เน่า หรือ โรงเรียน ดำเนินการ เก่า หรือ เกม ดู อย่าง เนื้อสัตว์',\n",
              " 'รสชาติ คือ ภาษา เพราะว่า ภูเขา อย่าง รีบ สมบูรณ์แบบ ซึ่ง เพื่อน คือ เพื่อน ซึ่ง ภาษา ไปยัง ปัจจุบัน ภาพยนตร์',\n",
              " 'เพื่อน ไปยัง เพื่อน ศาสนา ยกเว้นว่า อาหาร เสีย จริง',\n",
              " 'เฟอร์นิเจอร์ น่าเบื่อ ความฝัน',\n",
              " 'การเมือง เกลียด มีประโยชน์',\n",
              " 'เสียง รอคอย น่ารัก',\n",
              " 'ที่ไหนคือที่ เทคโนโลยี ยิ้ม',\n",
              " 'เสียง หาย อย่างเต็มที่ อ่อน',\n",
              " 'ภาพยนตร์ อย่างช้าๆ ร้องไห้ อาหาร ราวกับว่า กฎหมาย ดู สนุก หรือ แสง อย่างน่ากลัว ดำเนินการ เศร้าใจ',\n",
              " 'ปัจจุบัน หา ผิด',\n",
              " 'อย่างไร คน ฝัน',\n",
              " 'การเมือง คือ วัฒนธรรม']"
            ]
          },
          "metadata": {},
          "execution_count": 164
        }
      ]
    },
    {
      "cell_type": "code",
      "source": [
        "X_new = vectorizer.transform(docs_news)\n",
        "X_new = tfidf.transform(X_new)\n",
        "predicted = clf.predict(X_new)\n",
        "print(predicted)"
      ],
      "metadata": {
        "colab": {
          "base_uri": "https://localhost:8080/"
        },
        "id": "wDHK1sQlMeH6",
        "outputId": "54a7f89c-99d8-42b7-f5f6-f06f5969e295"
      },
      "execution_count": 165,
      "outputs": [
        {
          "output_type": "stream",
          "name": "stdout",
          "text": [
            "['Yes' 'No' 'No' 'No' 'Yes' 'No' 'No' 'No' 'Yes' 'Yes' 'No' 'No' 'No' 'No'\n",
            " 'Yes' 'No' 'Yes' 'No' 'No' 'Yes' 'No' 'No' 'No' 'No' 'Yes' 'No' 'No' 'No'\n",
            " 'No' 'No' 'No' 'No' 'Yes' 'No' 'Yes' 'No' 'Yes' 'No' 'No' 'Yes' 'Yes'\n",
            " 'Yes' 'Yes' 'No' 'No' 'No' 'No']\n"
          ]
        }
      ]
    },
    {
      "cell_type": "markdown",
      "source": [
        "### Testing with function"
      ],
      "metadata": {
        "id": "HDhY-zmQNMQL"
      }
    },
    {
      "cell_type": "code",
      "source": [
        "def testing_model(data):\n",
        "    X_new = vectorizer.transform(data)\n",
        "    X_new = tfidf.transform(X_new)\n",
        "    predicted = clf.predict(X_new)\n",
        "    return predicted"
      ],
      "metadata": {
        "id": "5SKs23Q0NHA7"
      },
      "execution_count": 166,
      "outputs": []
    },
    {
      "cell_type": "code",
      "source": [
        "docs_news = [\n",
        "    \"ฉัน เกลียด คุณ\",\n",
        "    \"วันนี้ อากาศ มัน ไม่ น่า รม รื่น จัง เลย\",\n",
        "    \"หมา ตัว นี้ เกลียด แมว ตัว นั้น\",\n",
        "    \"ปลา บู่ ทอง ถูก ย่าง สด จน ตาย อย่าง ทรมาน\",\n",
        "    \"เพื่อน คน นั้น ถูก เกลียด\",\n",
        "    \"วัน นี้ เป็น วัน ที่ แย่ มาก มาก\",\n",
        "    \"ฉัน ชอบ เธอ นะ\",\n",
        "    \"คะแนน สอบ Drawing ฉัน ได้ เต็ม เลย แหล่ะ\",\n",
        "    \"ฉัน อยาก ลา ออก\",\n",
        "    \"กู บิด ได้ มั้ย\",\n",
        "    \"มึง แม่ง ตั๋ง อ่ะ\",\n",
        "    \"ทำ ไม การบ้าน ถึง เยอะ ขนาด นี้ อ่ะ COMP IT ก็ ทำ ไม่ ไหว อยู่ แล้ว\"\n",
        "]\n",
        "\n",
        "print(testing_model(docs_news))"
      ],
      "metadata": {
        "colab": {
          "base_uri": "https://localhost:8080/"
        },
        "id": "P-QtmWUzNPQ_",
        "outputId": "05dd93cd-49fa-4963-e945-00f5e4a79e6e"
      },
      "execution_count": 171,
      "outputs": [
        {
          "output_type": "stream",
          "name": "stdout",
          "text": [
            "['No' 'No' 'No' 'No' 'No' 'No' 'Yes' 'Yes' 'No']\n"
          ]
        }
      ]
    }
  ]
}